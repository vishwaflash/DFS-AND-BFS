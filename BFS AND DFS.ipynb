{
 "cells": [
  {
   "cell_type": "markdown",
   "id": "430803e1",
   "metadata": {},
   "source": [
    "BFS"
   ]
  },
  {
   "cell_type": "code",
   "execution_count": 1,
   "id": "3184d61d",
   "metadata": {},
   "outputs": [],
   "source": [
    "graph={\n",
    "    'start':['A','B'],\n",
    "    'A':['start','E','F'],\n",
    "    'B':['start','D','C'],\n",
    "    'C':['B'],\n",
    "    'D':['B','goal'],\n",
    "    'E':['B','G'],\n",
    "    'F':['B'],\n",
    "    'G':['E'],\n",
    "    'goal':['E','F']\n",
    "}"
   ]
  },
  {
   "cell_type": "code",
   "execution_count": 2,
   "id": "9fd516ec",
   "metadata": {},
   "outputs": [],
   "source": [
    "from collections import deque\n",
    "def bfs(graph,start,goal):\n",
    "    visited=[]\n",
    "    queue=deque ([start])\n",
    "    while queue:\n",
    "        node=queue.popleft()\n",
    "        if node not in visited:\n",
    "            visited.append(node)\n",
    "            print(\"I have visited:\",node)\n",
    "            neighbours=graph[node]\n",
    "            if node==goal:\n",
    "                return(\"I have reached the goal, this is my traversed  path\")\n",
    "            for neighbour in neighbours :\n",
    "                queue.append(neighbour)"
   ]
  },
  {
   "cell_type": "code",
   "execution_count": 3,
   "id": "064ed992",
   "metadata": {},
   "outputs": [
    {
     "name": "stdout",
     "output_type": "stream",
     "text": [
      "I have visited: start\n",
      "I have visited: A\n",
      "I have visited: B\n",
      "I have visited: E\n",
      "I have visited: F\n",
      "I have visited: D\n",
      "I have visited: C\n",
      "I have visited: G\n",
      "I have visited: goal\n"
     ]
    },
    {
     "data": {
      "text/plain": [
       "'I have reached the goal, this is my traversed  path'"
      ]
     },
     "execution_count": 3,
     "metadata": {},
     "output_type": "execute_result"
    }
   ],
   "source": [
    "bfs(graph,'start','goal')"
   ]
  },
  {
   "cell_type": "markdown",
   "id": "72d33b2d",
   "metadata": {},
   "source": [
    "Depth First search"
   ]
  },
  {
   "cell_type": "code",
   "execution_count": 4,
   "id": "4ef658fa",
   "metadata": {},
   "outputs": [],
   "source": [
    "graph={\n",
    "    'start':['A','B'],\n",
    "    'A':['start','E','F'],\n",
    "    'B':['start','D','C'],\n",
    "    'C':['B'],\n",
    "    'D':['B','goal'],\n",
    "    'E':['B','G'],\n",
    "    'F':['B'],\n",
    "    'G':['E'],\n",
    "    'goal':['E','F']\n",
    "}"
   ]
  },
  {
   "cell_type": "code",
   "execution_count": 5,
   "id": "07244b2b",
   "metadata": {},
   "outputs": [],
   "source": [
    "def dfs(graph,start,goal,visited):\n",
    "    stack = [start]\n",
    "    while stack:\n",
    "        node = stack.pop()\n",
    "        if node not in visited:\n",
    "            visited.append(node)\n",
    "            if node==goal:\n",
    "                print(visited)\n",
    "            for neighbors in graph[node]:\n",
    "                dfs(graph,neighbors,goal,visited)"
   ]
  },
  {
   "cell_type": "code",
   "execution_count": 6,
   "id": "b4a6d80b",
   "metadata": {},
   "outputs": [
    {
     "name": "stdout",
     "output_type": "stream",
     "text": [
      "['start', 'A', 'E', 'B', 'D', 'goal']\n"
     ]
    }
   ],
   "source": [
    "dfs(graph,'start','goal',[])"
   ]
  },
  {
   "cell_type": "code",
   "execution_count": null,
   "id": "a9919831",
   "metadata": {},
   "outputs": [],
   "source": []
  }
 ],
 "metadata": {
  "kernelspec": {
   "display_name": "Python 3 (ipykernel)",
   "language": "python",
   "name": "python3"
  },
  "language_info": {
   "codemirror_mode": {
    "name": "ipython",
    "version": 3
   },
   "file_extension": ".py",
   "mimetype": "text/x-python",
   "name": "python",
   "nbconvert_exporter": "python",
   "pygments_lexer": "ipython3",
   "version": "3.9.13"
  }
 },
 "nbformat": 4,
 "nbformat_minor": 5
}
